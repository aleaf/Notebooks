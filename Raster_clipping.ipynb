{
 "cells": [
  {
   "cell_type": "code",
   "execution_count": 1,
   "metadata": {
    "collapsed": true
   },
   "outputs": [],
   "source": [
    "import numpy as np\n",
    "import fiona\n",
    "from shapely.geometry import shape\n",
    "import rasterio\n",
    "from rasterio.windows import get_data_window\n",
    "import matplotlib.pyplot as plt\n",
    "from GISops import clip_raster\n",
    "\n",
    "%matplotlib inline"
   ]
  },
  {
   "cell_type": "markdown",
   "metadata": {},
   "source": [
    "### start with a 1 degree x 1 degree DEM tile downloaded from the national map\n",
    "* this tile covers the La Crosse, WI area, from 43 to 44 deg. N, and 91 to 92 degrees W\n",
    "* can be downloaded from https://prd-tnm.s3.amazonaws.com/StagedProducts/Elevation/13/ArcGrid/n45w092.zip\n",
    "* unzip and copy to the path below to run this script"
   ]
  },
  {
   "cell_type": "code",
   "execution_count": null,
   "metadata": {
    "collapsed": true
   },
   "outputs": [],
   "source": [
    "original_tile = 'data/n44w092/grdn44w092_13'"
   ]
  },
  {
   "cell_type": "code",
   "execution_count": null,
   "metadata": {
    "collapsed": false
   },
   "outputs": [],
   "source": [
    "with rasterio.open(original_tile) as src:\n",
    "    plt.imshow(src.read(1))"
   ]
  },
  {
   "cell_type": "code",
   "execution_count": null,
   "metadata": {
    "collapsed": false
   },
   "outputs": [],
   "source": [
    "src.width, src.height # height and width in pixels"
   ]
  },
  {
   "cell_type": "code",
   "execution_count": null,
   "metadata": {
    "collapsed": false
   },
   "outputs": [],
   "source": [
    "src.bounds # bounding box in lat, lon"
   ]
  },
  {
   "cell_type": "code",
   "execution_count": null,
   "metadata": {
    "collapsed": false
   },
   "outputs": [],
   "source": [
    "src.res # x, y resolution in degrees"
   ]
  },
  {
   "cell_type": "markdown",
   "metadata": {},
   "source": [
    "## Clip the raster using a window\n",
    "#### read only the upper right quarter of the orignal tile and then write it back out\n",
    "* use a window (https://mapbox.github.io/rasterio/topics/windowed-rw.html)\n",
    "* the format for specifying the window is ((row_start, row_stop), (col_start, col_stop))\n",
    "* note that the row/column numbering is in matrix order! (origin at upper left corner)"
   ]
  },
  {
   "cell_type": "code",
   "execution_count": null,
   "metadata": {
    "collapsed": false
   },
   "outputs": [],
   "source": [
    "window = ((0, src.height/4), (src.width/2, src.width))\n",
    "window"
   ]
  },
  {
   "cell_type": "code",
   "execution_count": null,
   "metadata": {
    "collapsed": false
   },
   "outputs": [],
   "source": [
    "height = window[0][1] - window[0][0]\n",
    "width = window[1][1] - window[1][0]\n",
    "height, width"
   ]
  },
  {
   "cell_type": "code",
   "execution_count": null,
   "metadata": {
    "collapsed": false
   },
   "outputs": [],
   "source": [
    "with rasterio.open(original_tile) as src:\n",
    "    # read in the upper right quarter\n",
    "    img = src.read(1, window=window)\n",
    "    \n",
    "    # make a fresh copy of the meta data for the source raster\n",
    "    kwargs = src.meta.copy()\n",
    "    del kwargs['transform']\n",
    "    \n",
    "    # update the meta data with the new dimensions\n",
    "    kwargs.update({\n",
    "        'height': int(height),\n",
    "        'width': int(width),\n",
    "        'affine': src.window_transform(window), # set a new affine transform as well\n",
    "        'driver': 'GTiff' # also switch the driver to a GeoTiff\n",
    "    })\n",
    "    \n",
    "    # write it out!\n",
    "    with rasterio.open('data/lc.tif', 'w', **kwargs) as dst:\n",
    "         # since img is a 2-D array, specify that it should be written to band 1\n",
    "        dst.write(img, 1)"
   ]
  },
  {
   "cell_type": "code",
   "execution_count": null,
   "metadata": {
    "collapsed": false
   },
   "outputs": [],
   "source": [
    "plt.imshow(img)"
   ]
  },
  {
   "cell_type": "markdown",
   "metadata": {},
   "source": [
    "### reopen the file and verify that it was written correctly"
   ]
  },
  {
   "cell_type": "code",
   "execution_count": null,
   "metadata": {
    "collapsed": false
   },
   "outputs": [],
   "source": [
    "with rasterio.open('data/lc.tif') as src:\n",
    "    plt.imshow(src.read(1))"
   ]
  },
  {
   "cell_type": "markdown",
   "metadata": {},
   "source": [
    "## Clip the raster with an arbitrary polygon\n",
    "* shapefile of counties\n",
    "* this is also called masking (https://mapbox.github.io/rasterio/topics/masking-by-shapefile.html)\n",
    "* [more info on Masks](https://github.com/mapbox/rasterio/blob/master/docs/topics/masks.rst) (this also bleeds into Mosaicing)"
   ]
  },
  {
   "cell_type": "code",
   "execution_count": null,
   "metadata": {
    "collapsed": false
   },
   "outputs": [],
   "source": [
    "counties = []\n",
    "props = []\n",
    "with fiona.open('data/counties.shp') as src:\n",
    "    for record in src:\n",
    "        counties.append(record['geometry'])\n",
    "        props.append(record['properties'])\n",
    "props"
   ]
  },
  {
   "cell_type": "code",
   "execution_count": null,
   "metadata": {
    "collapsed": false
   },
   "outputs": [],
   "source": [
    "counties[3] # GeoJSON representation of Houston County in MN"
   ]
  },
  {
   "cell_type": "code",
   "execution_count": null,
   "metadata": {
    "collapsed": false,
    "scrolled": true
   },
   "outputs": [],
   "source": [
    "from rasterio.tools.mask import mask\n",
    "\n",
    "with rasterio.open('data/lc.tif') as src:\n",
    "    out_image, out_transform = mask(src, [counties[3]], nodata=0, crop=True)\n",
    "    out_meta = src.meta.copy()\n",
    "    \n",
    "    # also write this out as a GeoTiff\n",
    "    # update the metadata to reflect the new shape of the masked image\n",
    "    out_meta.update({\"driver\": \"GTiff\",\n",
    "                 \"height\": out_image.shape[1],\n",
    "                 \"width\": out_image.shape[2],\n",
    "                 \"transform\": out_transform})\n",
    "    with rasterio.open(\"data/Houston.tif\", \"w\", **out_meta) as dest:\n",
    "        dest.write(out_image)"
   ]
  },
  {
   "cell_type": "code",
   "execution_count": null,
   "metadata": {
    "collapsed": false
   },
   "outputs": [],
   "source": [
    "# above we set no data values to zero. \n",
    "#Mask them in the plot by converting them to nans\n",
    "out_image[out_image == 0] = np.nan\n",
    "plt.imshow(out_image[0, :, :])"
   ]
  },
  {
   "cell_type": "markdown",
   "metadata": {},
   "source": [
    "### Clip another county, but this time use a buffer so that there's overap\n",
    "(we will use the results in the Mosaic or Merge example to demonstrate handling of overlap)"
   ]
  },
  {
   "cell_type": "markdown",
   "metadata": {},
   "source": [
    "#### convert the second county from GeoJSON to a shapely Polygon"
   ]
  },
  {
   "cell_type": "code",
   "execution_count": null,
   "metadata": {
    "collapsed": false
   },
   "outputs": [],
   "source": [
    "lc = shape(counties[0])\n",
    "lc_buff = lc.simplify(0.03).buffer(0.04)\n",
    "lc_buff.is_valid"
   ]
  },
  {
   "cell_type": "markdown",
   "metadata": {},
   "source": [
    "#### inspect the buffer\n",
    "* use some fancy unzipping/zipping to convert the coordinate sequence into lists of x and y locations, so we can make a plot with minimal code"
   ]
  },
  {
   "cell_type": "code",
   "execution_count": null,
   "metadata": {
    "collapsed": false
   },
   "outputs": [],
   "source": [
    "plt.plot(*zip(*lc.exterior.coords))\n",
    "plt.plot(*zip(*lc_buff.exterior.coords))"
   ]
  },
  {
   "cell_type": "markdown",
   "metadata": {},
   "source": [
    "#### go from Polygon back to GeoJSON"
   ]
  },
  {
   "cell_type": "code",
   "execution_count": null,
   "metadata": {
    "collapsed": false
   },
   "outputs": [],
   "source": [
    "lc_buff.__geo_interface__"
   ]
  },
  {
   "cell_type": "code",
   "execution_count": null,
   "metadata": {
    "collapsed": false
   },
   "outputs": [],
   "source": [
    "with rasterio.open('data/lc.tif') as src:\n",
    "    out_image, out_transform = mask(src, [lc_buff.__geo_interface__], nodata=0, crop=True)\n",
    "    out_meta = src.meta.copy()\n",
    "    \n",
    "    # also write this out as a GeoTiff\n",
    "    # update the metadata to reflect the new shape of the masked image\n",
    "    out_meta.update({\"driver\": \"GTiff\",\n",
    "                 \"height\": out_image.shape[1],\n",
    "                 \"width\": out_image.shape[2],\n",
    "                 \"transform\": out_transform})\n",
    "    with rasterio.open(\"data/LaCrosse.tif\", \"w\", **out_meta) as dest:\n",
    "        dest.write(out_image)"
   ]
  },
  {
   "cell_type": "code",
   "execution_count": null,
   "metadata": {
    "collapsed": false
   },
   "outputs": [],
   "source": [
    "out_image[out_image == 0] = np.nan\n",
    "plt.imshow(out_image[0, :, :])"
   ]
  },
  {
   "cell_type": "code",
   "execution_count": null,
   "metadata": {
    "collapsed": true
   },
   "outputs": [],
   "source": []
  }
 ],
 "metadata": {
  "anaconda-cloud": {},
  "kernelspec": {
   "display_name": "Python [conda root]",
   "language": "python",
   "name": "conda-root-py"
  },
  "language_info": {
   "codemirror_mode": {
    "name": "ipython",
    "version": 3
   },
   "file_extension": ".py",
   "mimetype": "text/x-python",
   "name": "python",
   "nbconvert_exporter": "python",
   "pygments_lexer": "ipython3",
   "version": "3.5.2"
  }
 },
 "nbformat": 4,
 "nbformat_minor": 1
}
