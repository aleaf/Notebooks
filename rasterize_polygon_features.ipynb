{
 "cells": [
  {
   "cell_type": "markdown",
   "metadata": {},
   "source": [
    "## Rasterize polygon features using `rasterio`\n",
    "In this example, NHDPlus catchment numbers are sampled by the model grid, to determine stream segments corresponding to those catchments for routing overland flow"
   ]
  },
  {
   "cell_type": "code",
   "execution_count": 18,
   "metadata": {
    "collapsed": false
   },
   "outputs": [],
   "source": [
    "import sys\n",
    "sys.path.append('/Users/aleaf/Documents/GitHub/flopy3/')\n",
    "import numpy as np\n",
    "import matplotlib.pyplot as plt\n",
    "from rasterio import features\n",
    "from rasterio import Affine\n",
    "from GISops import project\n",
    "from GISio import shp2df\n",
    "from shapely.geometry import box, Point, mapping\n",
    "from flopy.utils.reference import SpatialReference\n",
    "\n",
    "%matplotlib inline"
   ]
  },
  {
   "cell_type": "code",
   "execution_count": 3,
   "metadata": {
    "collapsed": false
   },
   "outputs": [
    {
     "name": "stdout",
     "output_type": "stream",
     "text": [
      "\n",
      "reading ../streams/br_lines.shp...\n",
      "--> building dataframe... (may take a while for large shapefiles)\n"
     ]
    }
   ],
   "source": [
    "# model grid information\n",
    "nrow, ncol, nlay = 817, 1228, 5\n",
    "xll, yll = 617822.3, 5114820.7\n",
    "dxdy = 250\n",
    "dxdy_m = dxdy*.3048\n",
    "rot = 0.0\n",
    "model_epsg = 26715\n",
    "\n",
    "# NHDPlus catchment files (polygons)\n",
    "nhdcatchmentfiles = ['/Users/aleaf/Documents/NHDPlus/NHDPlusGL/NHDPlus04/NHDPlusCatchment/Catchment.shp',\n",
    "                     '/Users/aleaf/Documents/NHDPlus/NHDPlusMS/NHDPlus07/NHDPlusCatchment/Catchment.shp']\n",
    "# shapefile of SFR package tying NHDPlus Common Identifiers \n",
    "#(same as catchment numbers) to stream segment numbers\n",
    "sfrlines = shp2df('../streams/br_lines.shp')"
   ]
  },
  {
   "cell_type": "markdown",
   "metadata": {},
   "source": [
    "### make a `flopy SpatialReference` object"
   ]
  },
  {
   "cell_type": "code",
   "execution_count": 4,
   "metadata": {
    "collapsed": true
   },
   "outputs": [],
   "source": [
    "sr = SpatialReference(delr=np.ones(ncol)*dxdy, delc=np.ones(nrow)*dxdy, length_multiplier=0.3048,\n",
    "                     xll=xll, yll=yll, epsg=model_epsg)"
   ]
  },
  {
   "cell_type": "markdown",
   "metadata": {},
   "source": [
    "### get the bounds of the model in lat-lon for filtering the NHDPlus files\n",
    "filtering can greatly speed up reading in the shapefiles that cover large areas (such as the entire Great Lakes basin), when only results from a small part of that area are needed"
   ]
  },
  {
   "cell_type": "code",
   "execution_count": 7,
   "metadata": {
    "collapsed": false
   },
   "outputs": [
    {
     "data": {
      "text/plain": [
       "(-91.47368546346513, 46.15607821009628, -90.23424304911663, 46.738745374959635)"
      ]
     },
     "execution_count": 7,
     "metadata": {},
     "output_type": "execute_result"
    }
   ],
   "source": [
    "bounds_ll = project(box(*sr.bounds), '+init=epsg:{}'.format(model_epsg), '+init=epsg:4269')\n",
    "bounds_ll.bounds"
   ]
  },
  {
   "cell_type": "code",
   "execution_count": 8,
   "metadata": {
    "collapsed": false
   },
   "outputs": [
    {
     "name": "stdout",
     "output_type": "stream",
     "text": [
      "\n",
      "reading /Users/aleaf/Documents/NHDPlus/NHDPlusGL/NHDPlus04/NHDPlusCatchment/Catchment.shp...\n",
      "--> building dataframe... (may take a while for large shapefiles)\n",
      "\n",
      "reading /Users/aleaf/Documents/NHDPlus/NHDPlusMS/NHDPlus07/NHDPlusCatchment/Catchment.shp...\n",
      "--> building dataframe... (may take a while for large shapefiles)\n"
     ]
    }
   ],
   "source": [
    "cat = shp2df(nhdcatchmentfiles, filter=bounds_ll.bounds)"
   ]
  },
  {
   "cell_type": "code",
   "execution_count": 9,
   "metadata": {
    "collapsed": false
   },
   "outputs": [
    {
     "data": {
      "text/html": [
       "<div>\n",
       "<table border=\"1\" class=\"dataframe\">\n",
       "  <thead>\n",
       "    <tr style=\"text-align: right;\">\n",
       "      <th></th>\n",
       "      <th>GRIDCODE</th>\n",
       "      <th>FEATUREID</th>\n",
       "      <th>SOURCEFC</th>\n",
       "      <th>AreaSqKM</th>\n",
       "      <th>geometry</th>\n",
       "    </tr>\n",
       "  </thead>\n",
       "  <tbody>\n",
       "    <tr>\n",
       "      <th>0</th>\n",
       "      <td>7593</td>\n",
       "      <td>1797317</td>\n",
       "      <td>NHDFlowline</td>\n",
       "      <td>0.0945</td>\n",
       "      <td>POLYGON ((-90.94107041432243 46.58289585651074...</td>\n",
       "    </tr>\n",
       "    <tr>\n",
       "      <th>1</th>\n",
       "      <td>7664</td>\n",
       "      <td>1797319</td>\n",
       "      <td>NHDFlowline</td>\n",
       "      <td>0.3384</td>\n",
       "      <td>POLYGON ((-90.95310659701761 46.58388263890946...</td>\n",
       "    </tr>\n",
       "    <tr>\n",
       "      <th>2</th>\n",
       "      <td>7740</td>\n",
       "      <td>1797311</td>\n",
       "      <td>NHDFlowline</td>\n",
       "      <td>0.0423</td>\n",
       "      <td>POLYGON ((-90.93624980508767 46.58461544660413...</td>\n",
       "    </tr>\n",
       "    <tr>\n",
       "      <th>3</th>\n",
       "      <td>7921</td>\n",
       "      <td>1797281</td>\n",
       "      <td>NHDFlowline</td>\n",
       "      <td>1.8981</td>\n",
       "      <td>POLYGON ((-90.82346995915817 46.59774852247784...</td>\n",
       "    </tr>\n",
       "    <tr>\n",
       "      <th>4</th>\n",
       "      <td>7973</td>\n",
       "      <td>1797271</td>\n",
       "      <td>NHDFlowline</td>\n",
       "      <td>1.7091</td>\n",
       "      <td>(POLYGON ((-90.74795715149614 46.6331081561438...</td>\n",
       "    </tr>\n",
       "  </tbody>\n",
       "</table>\n",
       "</div>"
      ],
      "text/plain": [
       "   GRIDCODE  FEATUREID     SOURCEFC  AreaSqKM  \\\n",
       "0      7593    1797317  NHDFlowline    0.0945   \n",
       "1      7664    1797319  NHDFlowline    0.3384   \n",
       "2      7740    1797311  NHDFlowline    0.0423   \n",
       "3      7921    1797281  NHDFlowline    1.8981   \n",
       "4      7973    1797271  NHDFlowline    1.7091   \n",
       "\n",
       "                                            geometry  \n",
       "0  POLYGON ((-90.94107041432243 46.58289585651074...  \n",
       "1  POLYGON ((-90.95310659701761 46.58388263890946...  \n",
       "2  POLYGON ((-90.93624980508767 46.58461544660413...  \n",
       "3  POLYGON ((-90.82346995915817 46.59774852247784...  \n",
       "4  (POLYGON ((-90.74795715149614 46.6331081561438...  "
      ]
     },
     "execution_count": 9,
     "metadata": {},
     "output_type": "execute_result"
    }
   ],
   "source": [
    "cat.head()"
   ]
  },
  {
   "cell_type": "code",
   "execution_count": 10,
   "metadata": {
    "collapsed": false
   },
   "outputs": [
    {
     "data": {
      "text/html": [
       "<div>\n",
       "<table border=\"1\" class=\"dataframe\">\n",
       "  <thead>\n",
       "    <tr style=\"text-align: right;\">\n",
       "      <th></th>\n",
       "      <th>reachID</th>\n",
       "      <th>node</th>\n",
       "      <th>segment</th>\n",
       "      <th>reach</th>\n",
       "      <th>outseg</th>\n",
       "      <th>comid</th>\n",
       "      <th>asum</th>\n",
       "      <th>geometry</th>\n",
       "    </tr>\n",
       "  </thead>\n",
       "  <tbody>\n",
       "    <tr>\n",
       "      <th>0</th>\n",
       "      <td>45776</td>\n",
       "      <td>786485</td>\n",
       "      <td>1</td>\n",
       "      <td>1</td>\n",
       "      <td>3</td>\n",
       "      <td>1816005</td>\n",
       "      <td>0.000584</td>\n",
       "      <td>LINESTRING (660874.6459550587 5128238.01559588...</td>\n",
       "    </tr>\n",
       "    <tr>\n",
       "      <th>1</th>\n",
       "      <td>45777</td>\n",
       "      <td>786486</td>\n",
       "      <td>1</td>\n",
       "      <td>2</td>\n",
       "      <td>3</td>\n",
       "      <td>1816005</td>\n",
       "      <td>0.036020</td>\n",
       "      <td>LINESTRING (660875.3 5128242.365013323, 660885...</td>\n",
       "    </tr>\n",
       "    <tr>\n",
       "      <th>2</th>\n",
       "      <td>45778</td>\n",
       "      <td>785258</td>\n",
       "      <td>1</td>\n",
       "      <td>3</td>\n",
       "      <td>3</td>\n",
       "      <td>1816005</td>\n",
       "      <td>0.107785</td>\n",
       "      <td>LINESTRING (660885.1849181824 5128308.1, 66089...</td>\n",
       "    </tr>\n",
       "    <tr>\n",
       "      <th>3</th>\n",
       "      <td>45779</td>\n",
       "      <td>784030</td>\n",
       "      <td>1</td>\n",
       "      <td>4</td>\n",
       "      <td>3</td>\n",
       "      <td>1816005</td>\n",
       "      <td>0.184842</td>\n",
       "      <td>LINESTRING (660896.6435158572 5128384.29999999...</td>\n",
       "    </tr>\n",
       "    <tr>\n",
       "      <th>4</th>\n",
       "      <td>45780</td>\n",
       "      <td>782802</td>\n",
       "      <td>1</td>\n",
       "      <td>5</td>\n",
       "      <td>3</td>\n",
       "      <td>1816005</td>\n",
       "      <td>0.261899</td>\n",
       "      <td>LINESTRING (660908.102113532 5128460.499999999...</td>\n",
       "    </tr>\n",
       "  </tbody>\n",
       "</table>\n",
       "</div>"
      ],
      "text/plain": [
       "   reachID    node  segment  reach  outseg    comid      asum  \\\n",
       "0    45776  786485        1      1       3  1816005  0.000584   \n",
       "1    45777  786486        1      2       3  1816005  0.036020   \n",
       "2    45778  785258        1      3       3  1816005  0.107785   \n",
       "3    45779  784030        1      4       3  1816005  0.184842   \n",
       "4    45780  782802        1      5       3  1816005  0.261899   \n",
       "\n",
       "                                            geometry  \n",
       "0  LINESTRING (660874.6459550587 5128238.01559588...  \n",
       "1  LINESTRING (660875.3 5128242.365013323, 660885...  \n",
       "2  LINESTRING (660885.1849181824 5128308.1, 66089...  \n",
       "3  LINESTRING (660896.6435158572 5128384.29999999...  \n",
       "4  LINESTRING (660908.102113532 5128460.499999999...  "
      ]
     },
     "execution_count": 10,
     "metadata": {},
     "output_type": "execute_result"
    }
   ],
   "source": [
    "sfrlines.head()"
   ]
  },
  {
   "cell_type": "markdown",
   "metadata": {},
   "source": [
    "### Map COMID numbers to SFR segments"
   ]
  },
  {
   "cell_type": "code",
   "execution_count": 11,
   "metadata": {
    "collapsed": true
   },
   "outputs": [],
   "source": [
    "# map COMID values to SFR segments\n",
    "segments = dict(zip(sfrlines.comid, sfrlines.segment))\n",
    "\n",
    "# map NHDPlus catchments to segments\n",
    "cat_segments = [segments.get(comid, 0) for comid in cat.FEATUREID]"
   ]
  },
  {
   "cell_type": "markdown",
   "metadata": {},
   "source": [
    "### reproject the catchments into model coordinate system (UTM)"
   ]
  },
  {
   "cell_type": "code",
   "execution_count": 13,
   "metadata": {
    "collapsed": true
   },
   "outputs": [],
   "source": [
    "cat_utm = project(cat.geometry.values, '+init=epsg:4269', '+init=epsg:26715')\n",
    "\n",
    "# make a list of catchment features that corresponds to segment numbers list above\n",
    "shapes = list(zip([mapping(g) for g in cat_utm], cat_segments))"
   ]
  },
  {
   "cell_type": "markdown",
   "metadata": {},
   "source": [
    "### Make an `Affine` object to orient the model grid in space\n",
    "usage is `Affine(a, b, c, d, e, f)`\n",
    "\n",
    "where:\n",
    "\n",
    "a = width of a pixel  \n",
    "b = row rotation (typically zero)  \n",
    "c = x-coordinate of the upper-left corner of the upper-left pixel  \n",
    "d = column rotation (typically zero)  \n",
    "e = height of a pixel (typically negative)  \n",
    "f = y-coordinate of the of the upper-left corner of the upper-left pixel  "
   ]
  },
  {
   "cell_type": "code",
   "execution_count": 14,
   "metadata": {
    "collapsed": false
   },
   "outputs": [
    {
     "data": {
      "text/plain": [
       "Affine(76.2, 0.0, 617822.3,\n",
       "       0.0, -76.2, 5177076.100000001)"
      ]
     },
     "execution_count": 14,
     "metadata": {},
     "output_type": "execute_result"
    }
   ],
   "source": [
    "# Make an affine object describing the location of the model grid\n",
    "trans = Affine(dxdy_m, rot, sr.xul, rot, -dxdy_m, sr.yul)\n",
    "trans"
   ]
  },
  {
   "cell_type": "markdown",
   "metadata": {},
   "source": [
    "### rasterize the catchments!"
   ]
  },
  {
   "cell_type": "code",
   "execution_count": 27,
   "metadata": {
    "collapsed": false
   },
   "outputs": [
    {
     "data": {
      "text/plain": [
       "array([[   0,    0,    0, ...,    0,    0,    0],\n",
       "       [   0,    0,    0, ...,    0,    0,    0],\n",
       "       [   0,    0,    0, ...,    0,    0,    0],\n",
       "       ..., \n",
       "       [1483, 1483, 1483, ...,    0,    0,    0],\n",
       "       [   0, 1483, 1483, ...,    0,    0,    0],\n",
       "       [   0, 1483, 1483, ...,    0,    0,    0]], dtype=uint16)"
      ]
     },
     "execution_count": 27,
     "metadata": {},
     "output_type": "execute_result"
    }
   ],
   "source": [
    "raster = features.rasterize(shapes, out_shape=(nrow, ncol),\n",
    "                            transform=trans)\n",
    "raster"
   ]
  },
  {
   "cell_type": "code",
   "execution_count": 26,
   "metadata": {
    "collapsed": false
   },
   "outputs": [
    {
     "data": {
      "text/plain": [
       "<matplotlib.colorbar.Colorbar at 0x12ada0710>"
      ]
     },
     "execution_count": 26,
     "metadata": {},
     "output_type": "execute_result"
    },
    {
     "data": {
      "image/png": "[encoded data removed]",
      "text/plain": [
       "<matplotlib.figure.Figure at 0x1264aa240>"
      ]
     },
     "metadata": {},
     "output_type": "display_data"
    }
   ],
   "source": [
    "plt.figure(figsize=(11, 8.5))\n",
    "plt.imshow(raster)\n",
    "plt.colorbar(label='Stream segment number', fraction=.031)"
   ]
  },
  {
   "cell_type": "markdown",
   "metadata": {},
   "source": [
    "### Write the results out to a text file\n",
    "in this exampmle, this file can be used directly in the MODFLOW UZF package as the irunbnd array"
   ]
  },
  {
   "cell_type": "code",
   "execution_count": null,
   "metadata": {
    "collapsed": true
   },
   "outputs": [],
   "source": [
    "np.savetxt('irunbnd.dat', raster, fmt='%d')"
   ]
  }
 ],
 "metadata": {
  "anaconda-cloud": {},
  "kernelspec": {
   "display_name": "Python [conda env:gis]",
   "language": "python",
   "name": "conda-env-gis-py"
  },
  "language_info": {
   "codemirror_mode": {
    "name": "ipython",
    "version": 3
   },
   "file_extension": ".py",
   "mimetype": "text/x-python",
   "name": "python",
   "nbconvert_exporter": "python",
   "pygments_lexer": "ipython3",
   "version": "3.6.0"
  }
 },
 "nbformat": 4,
 "nbformat_minor": 1
}
