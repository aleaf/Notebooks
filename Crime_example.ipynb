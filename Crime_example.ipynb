{
 "cells": [
  {
   "cell_type": "markdown",
   "metadata": {},
   "source": [
    "## Madison crime example\n",
    "In this example we use the python GIS stack to look at crime in Madison, WI by neighborhood.\n",
    "\n",
    "#### Datasets:\n",
    "* City of Madison incident dataset, available from https://moto.data.socrata.com/dataset/City-of-Madison/dddr-t8pv (accessed 11/7/2016 for this example). For brevity, only the 2016 incidents are used in this example. \n",
    "* Wisconsin Neighborhood boundaries (for Madison and Milwaukee), from Zillow: http://www.zillow.com/static/shp/ZillowNeighborhoods-WI.zip (accessed 11/7/2016 for this example)  \n",
    "\n",
    "#### Operations:\n",
    "* read and write shapefiles using `GIS_utils` (macros around `fiona` and `pandas`)\n",
    "* plotting shapefile contents using `matplotlib` and `descartes`\n",
    "* visualizing dense point data using `datashader`\n",
    "* coordinate transformations using `GIS_utils` (wrapping `pyproj` and `shapely`)\n",
    "* using `shapely` to test for intersections\n",
    "* using `rtree` to speed up intersections through spatial indexing\n",
    "* using `pandas` for visualization and general data wrangling"
   ]
  },
  {
   "cell_type": "code",
   "execution_count": null,
   "metadata": {
    "collapsed": false
   },
   "outputs": [],
   "source": [
    "import numpy as np\n",
    "import pandas as pd\n",
    "import fiona\n",
    "from shapely.ops import unary_union\n",
    "from shapely.geometry import Point\n",
    "from descartes import PolygonPatch\n",
    "from rtree import index\n",
    "from matplotlib.collections import PatchCollection\n",
    "from GISio import shp2df\n",
    "from GISops import intersect_rtree, projectdf\n",
    "import matplotlib.pyplot as plt\n",
    "\n",
    "%matplotlib inline"
   ]
  },
  {
   "cell_type": "code",
   "execution_count": null,
   "metadata": {
    "collapsed": true
   },
   "outputs": [],
   "source": [
    "neighborhoods = 'data/ZillowNeighborhoods-WI/ZillowNeighborhoods-WI.shp'\n",
    "crimedata = 'data/MSNcrime16.csv' # 2016 incidents only"
   ]
  },
  {
   "cell_type": "markdown",
   "metadata": {},
   "source": [
    "### read in the neighborhood boundaries\n",
    "* `shp2df` function reads a shapefile, and returns a pandas dataframe of the attribute information, with the geometric information stored in a `geometry` column, as `shapely Point, Linstring, or Polygon` objects"
   ]
  },
  {
   "cell_type": "code",
   "execution_count": null,
   "metadata": {
    "collapsed": false
   },
   "outputs": [],
   "source": [
    "nb = shp2df(neighborhoods)\n",
    "\n",
    "# slice the dataframe to only include Madison neighborhoods\n",
    "msn = nb[nb.CITY == 'Madison'].copy()\n",
    "\n",
    "# use `shapely` to join the neighborhood polyons into one MultiPolygon, \n",
    "# so that we can get a single bounding box for all of them\n",
    "msn_extents = unary_union(msn.geometry)"
   ]
  },
  {
   "cell_type": "code",
   "execution_count": null,
   "metadata": {
    "collapsed": false
   },
   "outputs": [],
   "source": [
    "x1, y1, x2, y2 = msn_extents.bounds\n",
    "msn_extents.bounds"
   ]
  },
  {
   "cell_type": "markdown",
   "metadata": {},
   "source": [
    "### make a quick plot of the neighborhoods using `descartes` and `matplotlib.pyplot`\n",
    "* `PolygonPatch` converts the `shapley Polygon` objects to `matplotlib patches`"
   ]
  },
  {
   "cell_type": "code",
   "execution_count": null,
   "metadata": {
    "collapsed": false
   },
   "outputs": [],
   "source": [
    "fig, ax = plt.subplots(figsize=(15, 10))\n",
    "collection = PatchCollection([PolygonPatch(p) for p in msn.geometry], facecolor='w')\n",
    "ax.add_collection(collection)\n",
    "ax.set_ylim(y1, y2)\n",
    "ax.set_xlim(x1, x2)"
   ]
  },
  {
   "cell_type": "markdown",
   "metadata": {},
   "source": [
    "### Read indicident data into `pandas DataFrame`"
   ]
  },
  {
   "cell_type": "code",
   "execution_count": null,
   "metadata": {
    "collapsed": false
   },
   "outputs": [],
   "source": [
    "df = pd.read_csv(crimedata)\n",
    "df.index = pd.to_datetime(df.incident_datetime)\n",
    "df.head()"
   ]
  },
  {
   "cell_type": "markdown",
   "metadata": {},
   "source": [
    "### Count number of incidents by date, and plot"
   ]
  },
  {
   "cell_type": "code",
   "execution_count": null,
   "metadata": {
    "collapsed": false
   },
   "outputs": [],
   "source": [
    "import matplotlib.dates as dates\n",
    "ax = df.groupby(df.index.date).count().incident_id.plot()\n",
    "ax.xaxis.set_major_formatter(dates.DateFormatter('%b'))\n"
   ]
  },
  {
   "cell_type": "code",
   "execution_count": null,
   "metadata": {
    "collapsed": false
   },
   "outputs": [],
   "source": [
    "df.columns"
   ]
  },
  {
   "cell_type": "markdown",
   "metadata": {},
   "source": [
    "### list the all of the incident types in that dataset"
   ]
  },
  {
   "cell_type": "code",
   "execution_count": null,
   "metadata": {
    "collapsed": false
   },
   "outputs": [],
   "source": [
    "df.incident_type_primary.unique()"
   ]
  },
  {
   "cell_type": "markdown",
   "metadata": {},
   "source": [
    "### Add the incidents to the map with neighborhoods\n",
    "* overplotting of points in dense areas prevents us from seeing how much crime they actually have"
   ]
  },
  {
   "cell_type": "code",
   "execution_count": null,
   "metadata": {
    "collapsed": false
   },
   "outputs": [],
   "source": [
    "fig, ax = plt.subplots(figsize=(15, 10))\n",
    "collection = PatchCollection([PolygonPatch(p) for p in msn.geometry], facecolor='w')\n",
    "ax.add_collection(collection)\n",
    "ax.set_ylim(y1, y2)\n",
    "ax.set_xlim(x1, x2)\n",
    "ax.scatter(df.longitude, df.latitude, s=1)"
   ]
  },
  {
   "cell_type": "markdown",
   "metadata": {},
   "source": [
    "## Plot crime density by pixel using `datashader`\n",
    "more info on `datashader` here: https://github.com/bokeh/datashader"
   ]
  },
  {
   "cell_type": "code",
   "execution_count": null,
   "metadata": {
    "collapsed": false
   },
   "outputs": [],
   "source": [
    "import datashader as ds\n",
    "from datashader import transfer_functions as tf\n",
    "from datashader.colors import Hot, colormap_select as cm"
   ]
  },
  {
   "cell_type": "markdown",
   "metadata": {},
   "source": [
    "#### html colors that will represent the crime bins"
   ]
  },
  {
   "cell_type": "code",
   "execution_count": null,
   "metadata": {
    "collapsed": false
   },
   "outputs": [],
   "source": [
    "cm(Hot,0.2)"
   ]
  },
  {
   "cell_type": "code",
   "execution_count": null,
   "metadata": {
    "collapsed": false
   },
   "outputs": [],
   "source": [
    "#pixel dimensions of plot\n",
    "plot_width  = int(1e3)\n",
    "plot_height = int(plot_width//1.2)\n",
    "\n",
    "# make plot\n",
    "cvs = ds.Canvas(plot_width=plot_width, plot_height=plot_height, x_range=(x1, x2), y_range=(y1, y2))\n",
    "agg = cvs.points(df, 'longitude', 'latitude')\n",
    "img = tf.shade(agg, cmap=cm(Hot,0.2), how='eq_hist')\n",
    "tf.set_background(img, 'black')"
   ]
  },
  {
   "cell_type": "markdown",
   "metadata": {},
   "source": [
    "### Convert both datasets to UTM for computing distances\n",
    "the `projectdf` function in `GIS_utils` takes a dataframe that has a \"geometry\" column of `shapely` geometry objects, and reprojects those objects from one coordinate system to another\n",
    "* source and destination coordinate systems are defined with proj4 strings  \n",
    "https://trac.osgeo.org/proj/wiki/GenParms  \n",
    "http://spatialreference.org/\n",
    "* `projectdf` returns a list of geometry objects in the destination coordinate system"
   ]
  },
  {
   "cell_type": "code",
   "execution_count": null,
   "metadata": {
    "collapsed": false
   },
   "outputs": [],
   "source": [
    "# make a list of neighborhood polygons reprojected to utm coordinates\n",
    "msn_geoms_utm = projectdf(msn, \n",
    "                            '+init=epsg:4269', # proj4 string for original coordinate system (NAD 83 degrees)\n",
    "                            '+init=epsg:26916' # proj4 for destination coordinate system (UTM 83 zone 16)\n",
    "                           )\n",
    "list(msn_geoms_utm[0].exterior.coords)[:10]"
   ]
  },
  {
   "cell_type": "markdown",
   "metadata": {},
   "source": [
    "#### Get ride of invalid points first to minimize issues in the spatial join\n",
    "* invalid points can cause ```rtree``` to crash"
   ]
  },
  {
   "cell_type": "code",
   "execution_count": null,
   "metadata": {
    "collapsed": false
   },
   "outputs": [],
   "source": [
    "# drop indicents without lat/lon values\n",
    "df.dropna(axis=0, subset=['longitude', 'latitude'], inplace=True)\n",
    "\n",
    "# make shapley point objects out of the lat, lon values\n",
    "df['geometry'] = [Point(*xy) for xy in zip(df.longitude.values, df.latitude.values)]"
   ]
  },
  {
   "cell_type": "code",
   "execution_count": null,
   "metadata": {
    "collapsed": false
   },
   "outputs": [],
   "source": [
    "# drop any points that aren't within the city (using the polygon we defined earlier)\n",
    "# use the bounds because the union of the neighborhood polygons is too complex\n",
    "# (meaning it will take shapely a while to determine intersections)\n",
    "msn_extents"
   ]
  },
  {
   "cell_type": "code",
   "execution_count": null,
   "metadata": {
    "collapsed": false
   },
   "outputs": [],
   "source": [
    "msn_extents.bounds"
   ]
  },
  {
   "cell_type": "code",
   "execution_count": null,
   "metadata": {
    "collapsed": false
   },
   "outputs": [],
   "source": [
    "from shapely.geometry import box # makes a polygon out of bounding coordinates\n",
    "bounds = box(*msn_extents.bounds)\n",
    "within = [g.within(bounds) for g in df.geometry] # test whether each incident is within the bounding box\n",
    "print(within[0:100])"
   ]
  },
  {
   "cell_type": "code",
   "execution_count": null,
   "metadata": {
    "collapsed": true
   },
   "outputs": [],
   "source": [
    "df = df[within].copy() # make a copy so that we are no longer working with the old DataFrame"
   ]
  },
  {
   "cell_type": "code",
   "execution_count": null,
   "metadata": {
    "collapsed": true
   },
   "outputs": [],
   "source": [
    "# now make a list of incident locations in utm\n",
    "crime_points_utm = projectdf(df, \n",
    "                            '+init=epsg:4269', # proj4 string for original coordinate system (NAD 83 degrees)\n",
    "                            '+init=epsg:26916' # proj4 for destination coordinate system (UTM 83 zone 16)\n",
    "                           )"
   ]
  },
  {
   "cell_type": "code",
   "execution_count": null,
   "metadata": {
    "collapsed": false
   },
   "outputs": [],
   "source": [
    "len(df),len(msn)"
   ]
  },
  {
   "cell_type": "markdown",
   "metadata": {},
   "source": [
    "### Aggregate the number of incidents by neighborhood\n",
    "* this requires each point to be tested for each neighborhood (11.7 million operations if we have 94,513 incidents and 124 neighborhoods)\n",
    "* the `rtree` package speeds up this process via spatial indexing  \n",
    "https://en.wikipedia.org/wiki/R-tree\n",
    "* use the ```intersect_rtree``` macro for convenience\n",
    "* `intersect_rtree` takes two lists of shapely geometry objects, and\n",
    "    * reduces objects in the first list to bounding boxes, and builds an rtree spatial index of them\n",
    "    * for each object in list 2, uses rtree to find the bounding boxes in list 1 that intersect the bounding boxe of the object\n",
    "        * from the initial list of bounding box intersections, uses shapely to test the actual geometric features for intersection with each other"
   ]
  },
  {
   "cell_type": "code",
   "execution_count": null,
   "metadata": {
    "collapsed": false
   },
   "outputs": [],
   "source": [
    "inds = intersect_rtree(crime_points_utm, msn_geoms_utm)"
   ]
  },
  {
   "cell_type": "markdown",
   "metadata": {},
   "source": [
    "#### ```intersect_rtree``` returns a lists of lists  \n",
    "* (length equal to the number of neighborhood polygons), \n",
    "* each inner list containing the indicies of points within that neighborhood"
   ]
  },
  {
   "cell_type": "code",
   "execution_count": null,
   "metadata": {
    "collapsed": false
   },
   "outputs": [],
   "source": [
    "print(inds[0])"
   ]
  },
  {
   "cell_type": "markdown",
   "metadata": {},
   "source": [
    "### count the number of incidents in each neighborhood  \n",
    "* assign this to a new column in the neighborhoods dataframe"
   ]
  },
  {
   "cell_type": "code",
   "execution_count": null,
   "metadata": {
    "collapsed": false
   },
   "outputs": [],
   "source": [
    "msn['n_incidents'] = [len(i) for i in inds]\n",
    "msn.n_incidents.hist(bins=100)"
   ]
  },
  {
   "cell_type": "markdown",
   "metadata": {},
   "source": [
    "### plot number of incidents by neighborhood\n",
    "* crime in the downtown area is an order of magnitude higher than anywhere else\n",
    "* set the color scale accordingly so it doesn't wash out variability elsewhere"
   ]
  },
  {
   "cell_type": "code",
   "execution_count": null,
   "metadata": {
    "collapsed": false
   },
   "outputs": [],
   "source": [
    "fig, ax = plt.subplots(figsize=(15, 10))\n",
    "\n",
    "# make a patch collection of the neighborhood polygons\n",
    "collection = PatchCollection([PolygonPatch(p) for p in msn.geometry], facecolor='w')\n",
    "\n",
    "# set an array of color values for the neighborhood patches\n",
    "collection.set_array(msn.n_incidents.values)\n",
    "\n",
    "# set the color limit based on the histogram above\n",
    "collection.set_clim(0, 4000)\n",
    "\n",
    "# add the collection to the plot\n",
    "ax.add_collection(collection)\n",
    "ax.set_ylim(y1, y2)\n",
    "ax.set_xlim(x1, x2)\n",
    "fig.colorbar(collection)"
   ]
  },
  {
   "cell_type": "markdown",
   "metadata": {},
   "source": [
    "## Finish the spatial join\n",
    "* add the neighborhoods to the crime dataframe to allow for additional analyses"
   ]
  },
  {
   "cell_type": "code",
   "execution_count": null,
   "metadata": {
    "collapsed": false
   },
   "outputs": [],
   "source": [
    "msn.head()"
   ]
  },
  {
   "cell_type": "code",
   "execution_count": null,
   "metadata": {
    "collapsed": false
   },
   "outputs": [],
   "source": [
    "# make an empty array of strings the same length as the dataframe\n",
    "# the dtype has to be an object or large enough string to accommodate the long neighborhood names\n",
    "neighborhoods = np.array([''] * len(df), dtype=np.object)\n",
    "\n",
    "# now iterate through the neighborhoods dataframe and assign the neighborhood name to the indices we got from rtree\n",
    "for i, n in enumerate(msn.NAME):\n",
    "    neighborhoods[inds[i]] = n\n",
    "neighborhoods"
   ]
  },
  {
   "cell_type": "code",
   "execution_count": null,
   "metadata": {
    "collapsed": false
   },
   "outputs": [],
   "source": [
    "# assign this to a new column in the incidents dataframe\n",
    "df['neighborhood'] = neighborhoods\n",
    "df.head()"
   ]
  },
  {
   "cell_type": "code",
   "execution_count": null,
   "metadata": {
    "collapsed": true
   },
   "outputs": [],
   "source": []
  }
 ],
 "metadata": {
  "anaconda-cloud": {},
  "kernelspec": {
   "display_name": "Python [conda root]",
   "language": "python",
   "name": "conda-root-py"
  },
  "language_info": {
   "codemirror_mode": {
    "name": "ipython",
    "version": 3
   },
   "file_extension": ".py",
   "mimetype": "text/x-python",
   "name": "python",
   "nbconvert_exporter": "python",
   "pygments_lexer": "ipython3",
   "version": "3.5.2"
  }
 },
 "nbformat": 4,
 "nbformat_minor": 1
}
