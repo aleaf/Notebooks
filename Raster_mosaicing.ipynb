{
 "cells": [
  {
   "cell_type": "code",
   "execution_count": null,
   "metadata": {
    "collapsed": true
   },
   "outputs": [],
   "source": [
    "import numpy as np\n",
    "from rasterio.merge import merge\n",
    "import rasterio\n",
    "import matplotlib.pyplot as plt\n",
    "\n",
    "%matplotlib inline"
   ]
  },
  {
   "cell_type": "code",
   "execution_count": null,
   "metadata": {
    "collapsed": true
   },
   "outputs": [],
   "source": [
    "file1 = 'data/Houston.tif'\n",
    "file2 = 'data/LaCrosse.tif'"
   ]
  },
  {
   "cell_type": "markdown",
   "metadata": {},
   "source": [
    "## Merge the two rasters\n",
    "* for a description see: https://mapbox.s3.amazonaws.com/playground/perrygeo/rasterio-docs/rasterio.merge.html"
   ]
  },
  {
   "cell_type": "code",
   "execution_count": null,
   "metadata": {
    "collapsed": false
   },
   "outputs": [],
   "source": [
    "with rasterio.open(file1) as src:\n",
    "    img1 = src.read(1)\n",
    "    with rasterio.open(file2) as src2:\n",
    "        img2 = src2.read(1)\n",
    "    \n",
    "        out_image, out_trans = merge([src, src2], nodata=0)\n",
    "        \n",
    "        # write the merged dataset out to a new raster file\n",
    "        # open the merged GeoTiff in a GIS to verify that it is correct!\n",
    "        out_meta = src.meta.copy()\n",
    "        out_meta.update({\"driver\": \"GTiff\",\n",
    "                 \"height\": out_image.shape[1],\n",
    "                 \"width\": out_image.shape[2],\n",
    "                 \"transform\": out_trans})\n",
    "        with rasterio.open(\"data/merged.tif\", \"w\", **out_meta) as dest:\n",
    "            dest.write(out_image)"
   ]
  },
  {
   "cell_type": "markdown",
   "metadata": {},
   "source": [
    "#### Note that there is no sign of the overlap\n",
    "* the [reverse painter’s algorithm](https://en.wikipedia.org/wiki/Painter%27s_algorithm) is used to merge the files in their listed order"
   ]
  },
  {
   "cell_type": "code",
   "execution_count": null,
   "metadata": {
    "collapsed": false
   },
   "outputs": [],
   "source": [
    "out_image[out_image == 0] = np.nan\n",
    "plt.imshow(out_image[0, :, :])"
   ]
  },
  {
   "cell_type": "code",
   "execution_count": null,
   "metadata": {
    "collapsed": true
   },
   "outputs": [],
   "source": []
  }
 ],
 "metadata": {
  "anaconda-cloud": {},
  "kernelspec": {
   "display_name": "Python [conda root]",
   "language": "python",
   "name": "conda-root-py"
  },
  "language_info": {
   "codemirror_mode": {
    "name": "ipython",
    "version": 3
   },
   "file_extension": ".py",
   "mimetype": "text/x-python",
   "name": "python",
   "nbconvert_exporter": "python",
   "pygments_lexer": "ipython3",
   "version": "3.5.2"
  }
 },
 "nbformat": 4,
 "nbformat_minor": 1
}
