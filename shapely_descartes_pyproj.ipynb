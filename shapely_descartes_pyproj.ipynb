{
 "cells": [
  {
   "cell_type": "code",
   "execution_count": 1,
   "metadata": {
    "collapsed": false
   },
   "outputs": [],
   "source": [
    "import numpy as np\n",
    "from shapely.geometry import Polygon, LineString, Point\n",
    "import matplotlib.pyplot as plt\n",
    "from GISio import shp2df\n",
    "from descartes import PolygonPatch\n",
    "\n",
    "% matplotlib inline"
   ]
  },
  {
   "cell_type": "markdown",
   "metadata": {},
   "source": [
    "### `shapely`\n",
    "#### make some arbitrary polygons\n",
    "test them for intersection; demonstrate some other methods\n",
    "see: http://toblerity.org/shapely/manual.html#predicates-and-relationships\n"
   ]
  },
  {
   "cell_type": "code",
   "execution_count": 2,
   "metadata": {
    "collapsed": false
   },
   "outputs": [
    {
     "data": {
      "text/plain": [
       "True"
      ]
     },
     "execution_count": 2,
     "metadata": {},
     "output_type": "execute_result"
    }
   ],
   "source": [
    "p1 = Polygon(((0, 0), (0, 1), (1, 1), (1, 0)))\n",
    "p2 = Polygon(((0.5, 0.5), (0.5, 1.5), (1.5, 1.5), (1.5, 0.5), (0.5, 0.5)))\n",
    "p1.intersects(p2)"
   ]
  },
  {
   "cell_type": "code",
   "execution_count": 3,
   "metadata": {
    "collapsed": false
   },
   "outputs": [
    {
     "data": {
      "text/plain": [
       "False"
      ]
     },
     "execution_count": 3,
     "metadata": {},
     "output_type": "execute_result"
    }
   ],
   "source": [
    "p1.within(p2)"
   ]
  },
  {
   "cell_type": "code",
   "execution_count": 4,
   "metadata": {
    "collapsed": false
   },
   "outputs": [
    {
     "data": {
      "text/plain": [
       "False"
      ]
     },
     "execution_count": 4,
     "metadata": {},
     "output_type": "execute_result"
    }
   ],
   "source": [
    "p1.touches(p2)"
   ]
  },
  {
   "cell_type": "code",
   "execution_count": 5,
   "metadata": {
    "collapsed": false
   },
   "outputs": [
    {
     "data": {
      "image/svg+xml": [
       "<svg xmlns=\"http://www.w3.org/2000/svg\" xmlns:xlink=\"http://www.w3.org/1999/xlink\" width=\"100.0\" height=\"100.0\" viewBox=\"-0.04 -0.04 1.08 1.08\" preserveAspectRatio=\"xMinYMin meet\"><g transform=\"matrix(1,0,0,-1,0,1.0)\"><path fill-rule=\"evenodd\" fill=\"#66cc99\" stroke=\"#555555\" stroke-width=\"0.0216\" opacity=\"0.6\" d=\"M 0.0,0.0 L 0.0,1.0 L 0.5,1.0 L 0.5,0.5 L 1.0,0.5 L 1.0,0.0 L 0.0,0.0 z\" /></g></svg>"
      ],
      "text/plain": [
       "<shapely.geometry.polygon.Polygon at 0x11c854fd0>"
      ]
     },
     "execution_count": 5,
     "metadata": {},
     "output_type": "execute_result"
    }
   ],
   "source": [
    "dif = p1.difference(p2)\n",
    "dif"
   ]
  },
  {
   "cell_type": "code",
   "execution_count": 6,
   "metadata": {
    "collapsed": false
   },
   "outputs": [
    {
     "data": {
      "image/svg+xml": [
       "<svg xmlns=\"http://www.w3.org/2000/svg\" xmlns:xlink=\"http://www.w3.org/1999/xlink\" width=\"100.0\" height=\"100.0\" viewBox=\"-0.06 -0.06 1.62 1.62\" preserveAspectRatio=\"xMinYMin meet\"><g transform=\"matrix(1,0,0,-1,0,1.5)\"><path fill-rule=\"evenodd\" fill=\"#66cc99\" stroke=\"#555555\" stroke-width=\"0.032400000000000005\" opacity=\"0.6\" d=\"M 0.0,0.0 L 0.0,1.0 L 0.5,1.0 L 0.5,1.5 L 1.5,1.5 L 1.5,0.5 L 1.0,0.5 L 1.0,0.0 L 0.0,0.0 z\" /></g></svg>"
      ],
      "text/plain": [
       "<shapely.geometry.polygon.Polygon at 0x10a9a10f0>"
      ]
     },
     "execution_count": 6,
     "metadata": {},
     "output_type": "execute_result"
    }
   ],
   "source": [
    "un = p1.union(p2)\n",
    "un"
   ]
  },
  {
   "cell_type": "code",
   "execution_count": 7,
   "metadata": {
    "collapsed": false
   },
   "outputs": [
    {
     "data": {
      "image/svg+xml": [
       "<svg xmlns=\"http://www.w3.org/2000/svg\" xmlns:xlink=\"http://www.w3.org/1999/xlink\" width=\"100.0\" height=\"100.0\" viewBox=\"0.48 0.48 0.54 0.54\" preserveAspectRatio=\"xMinYMin meet\"><g transform=\"matrix(1,0,0,-1,0,1.5)\"><path fill-rule=\"evenodd\" fill=\"#66cc99\" stroke=\"#555555\" stroke-width=\"0.0108\" opacity=\"0.6\" d=\"M 0.5,1.0 L 1.0,1.0 L 1.0,0.5 L 0.5,0.5 L 0.5,1.0 z\" /></g></svg>"
      ],
      "text/plain": [
       "<shapely.geometry.polygon.Polygon at 0x10a987f60>"
      ]
     },
     "execution_count": 7,
     "metadata": {},
     "output_type": "execute_result"
    }
   ],
   "source": [
    "ints = p1.intersection(p2)\n",
    "ints"
   ]
  },
  {
   "cell_type": "code",
   "execution_count": 8,
   "metadata": {
    "collapsed": false
   },
   "outputs": [
    {
     "data": {
      "image/svg+xml": [
       "<svg xmlns=\"http://www.w3.org/2000/svg\" xmlns:xlink=\"http://www.w3.org/1999/xlink\" width=\"100.0\" height=\"100.0\" viewBox=\"-0.06 -0.06 1.62 1.62\" preserveAspectRatio=\"xMinYMin meet\"><g transform=\"matrix(1,0,0,-1,0,1.5)\"><path fill-rule=\"evenodd\" fill=\"#66cc99\" stroke=\"#555555\" stroke-width=\"0.032400000000000005\" opacity=\"0.6\" d=\"M 0.0,1.0 L 0.002407636663901591,1.0490085701647804 L 0.009607359798384785,1.0975451610080642 L 0.021529832133895588,1.1451423386272312 L 0.03806023374435663,1.1913417161825448 L 0.05903936782582253,1.235698368412999 L 0.08426519384872733,1.277785116509801 L 0.1134947733186315,1.3171966420818229 L 0.14644660940672627,1.3535533905932737 L 0.18280335791817737,1.3865052266813684 L 0.22221488349019902,1.4157348061512727 L 0.26430163158700115,1.4409606321741775 L 0.30865828381745514,1.4619397662556435 L 0.35485766137276886,1.4784701678661045 L 0.402454838991936,1.4903926402016152 L 0.4509914298352199,1.4975923633360986 L 0.5,1.5 L 1.0,1.5 L 1.0490085701647804,1.4975923633360984 L 1.0975451610080642,1.4903926402016152 L 1.145142338627231,1.4784701678661045 L 1.1913417161825448,1.4619397662556435 L 1.235698368412999,1.4409606321741775 L 1.277785116509801,1.4157348061512725 L 1.3171966420818229,1.3865052266813684 L 1.3535533905932737,1.3535533905932737 L 1.3865052266813684,1.3171966420818229 L 1.4157348061512727,1.277785116509801 L 1.4409606321741775,1.235698368412999 L 1.4619397662556435,1.1913417161825448 L 1.4784701678661045,1.145142338627231 L 1.4903926402016152,1.097545161008064 L 1.4975923633360986,1.0490085701647802 L 1.5,1.0 L 1.5,0.5 L 1.4975923633360986,0.45099142983521967 L 1.4903926402016152,0.4024548389919359 L 1.4784701678661043,0.35485766137276886 L 1.4619397662556435,0.3086582838174551 L 1.4409606321741775,0.26430163158700115 L 1.4157348061512727,0.2222148834901989 L 1.3865052266813684,0.18280335791817726 L 1.3535533905932737,0.14644660940672627 L 1.3171966420818229,0.11349477331863156 L 1.277785116509801,0.08426519384872744 L 1.235698368412999,0.05903936782582253 L 1.1913417161825448,0.03806023374435663 L 1.145142338627231,0.021529832133895532 L 1.097545161008064,0.009607359798384785 L 1.0490085701647802,0.0024076366639015356 L 1.0,0.0 L 0.5,0.0 L 0.4509914298352167,0.0024076366639018687 L 0.4024548389919331,0.00960735979838534 L 0.35485766137276625,0.021529832133896365 L 0.30865828381745275,0.038060233744357574 L 0.2643016315869991,0.059039367825823585 L 0.22221488349019702,0.0842651938487286 L 0.18280335791817603,0.11349477331863256 L 0.14644660940672505,0.14644660940672738 L 0.11349477331863056,0.18280335791817837 L 0.08426519384872666,0.22221488349019997 L 0.059039367825821976,0.26430163158700215 L 0.03806023374435624,0.30865828381745597 L 0.021529832133895366,0.35485766137276953 L 0.009607359798384674,0.40245483899193646 L 0.0024076366639015356,0.45099142983522017 L 0.0,0.5 L 0.0,1.0 z\" /></g></svg>"
      ],
      "text/plain": [
       "<shapely.geometry.polygon.Polygon at 0x10a8faf98>"
      ]
     },
     "execution_count": 8,
     "metadata": {},
     "output_type": "execute_result"
    }
   ],
   "source": [
    "buf = ints.buffer(0.5, )\n",
    "buf"
   ]
  },
  {
   "cell_type": "markdown",
   "metadata": {},
   "source": [
    "#### make a quick and dirty plot that illustrates the exterior rings of the shapes together"
   ]
  },
  {
   "cell_type": "code",
   "execution_count": 9,
   "metadata": {
    "collapsed": false
   },
   "outputs": [
    {
     "data": {
      "text/plain": [
       "<matplotlib.legend.Legend at 0x11e939f28>"
      ]
     },
     "execution_count": 9,
     "metadata": {},
     "output_type": "execute_result"
    },
    {
     "data": {
      "image/png": "[encoded data removed]",
      "text/plain": [
       "<matplotlib.figure.Figure at 0x11c871908>"
      ]
     },
     "metadata": {},
     "output_type": "display_data"
    }
   ],
   "source": [
    "fig, ax = plt.subplots()\n",
    "plt.plot(*zip(*p1.exterior.coords), label='p1')\n",
    "plt.plot(*zip(*p2.exterior.coords), color='r', label='p2')\n",
    "plt.plot(*zip(*dif.exterior.coords), color='g', label='diff')\n",
    "plt.plot(*zip(*ints.exterior.coords), color='k', label='ints')\n",
    "plt.plot(*zip(*buf.exterior.coords), color='k', label='buf')\n",
    "ax.set_xlim(-1, 2)\n",
    "ax.set_ylim(-1, 2)\n",
    "plt.legend(loc=2)"
   ]
  },
  {
   "cell_type": "markdown",
   "metadata": {},
   "source": [
    "#### read in the Yahara Lakes shapefile"
   ]
  },
  {
   "cell_type": "code",
   "execution_count": 10,
   "metadata": {
    "collapsed": false
   },
   "outputs": [
    {
     "name": "stdout",
     "output_type": "stream",
     "text": [
      "\n",
      "reading data/YaharaLakes.shp...\n",
      "--> building dataframe... (may take a while for large shapefiles)\n"
     ]
    }
   ],
   "source": [
    "df = shp2df('data/YaharaLakes.shp')"
   ]
  },
  {
   "cell_type": "markdown",
   "metadata": {},
   "source": [
    "### `descartes`\n",
    "#### make a patch (plottable by `pyplot`) of a single geometry using `PolygonPatch`"
   ]
  },
  {
   "cell_type": "code",
   "execution_count": 11,
   "metadata": {
    "collapsed": false
   },
   "outputs": [
    {
     "data": {
      "text/plain": [
       "<matplotlib.patches.PathPatch at 0x11c866278>"
      ]
     },
     "execution_count": 11,
     "metadata": {},
     "output_type": "execute_result"
    }
   ],
   "source": [
    "PolygonPatch(df.geometry[0])"
   ]
  },
  {
   "cell_type": "code",
   "execution_count": 12,
   "metadata": {
    "collapsed": true
   },
   "outputs": [],
   "source": [
    "from matplotlib.collections import PatchCollection"
   ]
  },
  {
   "cell_type": "markdown",
   "metadata": {},
   "source": [
    "### make a patch collection of all the lakes"
   ]
  },
  {
   "cell_type": "code",
   "execution_count": 13,
   "metadata": {
    "collapsed": false
   },
   "outputs": [
    {
     "data": {
      "text/plain": [
       "[(-89.38954830502291, 43.063793399823055, 0.0),\n",
       " (-89.38945470502301, 43.063564733156795, 0.0),\n",
       " (-89.38936110502317, 43.063473333156935, 0.0),\n",
       " (-89.3892987050233, 43.06331333315717, 0.0),\n",
       " (-89.38855010502442, 43.06251333315839, 0.0),\n",
       " (-89.38848777169119, 43.06242179982519, 0.0),\n",
       " (-89.38789530502544, 43.06187319982604, 0.0),\n",
       " (-89.38789517169215, 43.061324533160246, 0.0),\n",
       " (-89.38801990502526, 43.06105013316068, 0.0),\n",
       " (-89.38801977169192, 43.060661533161294, 0.0),\n",
       " (-89.3878949716921, 43.060547133161435, 0.0),\n",
       " (-89.3873961716929, 43.060615799827985, 0.0),\n",
       " (-89.3873027050264, 43.060821599827705, 0.0),\n",
       " (-89.38705317169342, 43.060821599827705, 0.0),\n",
       " (-89.38695970502692, 43.0607529998278, 0.0),\n",
       " (-89.38677250502718, 43.06057019982808, 0.0),\n",
       " (-89.3865231050276, 43.060272999828555, 0.0),\n",
       " (-89.38583697169531, 43.05956439982964, 0.0),\n",
       " (-89.38527570502953, 43.058878599830734, 0.0),\n",
       " (-89.38508857169649, 43.058695799831014, 0.0),\n",
       " (-89.38508850502984, 43.058489999831295, 0.0),\n",
       " (-89.38599257169506, 43.058421399831445, 0.0),\n",
       " (-89.38755150502601, 43.05842113316476, 0.0),\n",
       " (-89.38776990502566, 43.05851259983126, 0.0),\n",
       " (-89.38783230502554, 43.058969733163906, 0.0),\n",
       " (-89.38814397169176, 43.059015399830514, 0.0),\n",
       " (-89.38848710502452, 43.05896959983056, 0.0),\n",
       " (-89.38886070502394, 43.05748359983289, 0.0),\n",
       " (-89.38904777169034, 43.05734639983308, 0.0),\n",
       " (-89.38951530502294, 43.05718633316667, 0.0),\n",
       " (-89.39172897168618, 43.057231599833244, 0.0),\n",
       " (-89.39481537168137, 43.05741399983299, 0.0),\n",
       " (-89.39606237167948, 43.05732219983315, 0.0),\n",
       " (-89.39702897167797, 43.05736779983306, 0.0),\n",
       " (-89.3974653716773, 43.05745913316622, 0.0),\n",
       " (-89.3977773716768, 43.05777913316575, 0.0),\n",
       " (-89.39927470500777, 43.05988213316249, 0.0),\n",
       " (-89.39936937167431, 43.0623739331586, 0.0),\n",
       " (-89.39924490500783, 43.06271693315807, 0.0),\n",
       " (-89.39905790500814, 43.06292273315779, 0.0),\n",
       " (-89.39865257167543, 43.06299133315764, 0.0),\n",
       " (-89.39774837167681, 43.063060199824235, 0.0),\n",
       " (-89.39743650501066, 43.063128799824085, 0.0),\n",
       " (-89.39684450501159, 43.063814799823035, 0.0),\n",
       " (-89.39643917167888, 43.06406639982265, 0.0),\n",
       " (-89.3956285716801, 43.06418079982245, 0.0),\n",
       " (-89.39419410501569, 43.06383819982301, 0.0),\n",
       " (-89.39260377168483, 43.06319839982399, 0.0),\n",
       " (-89.39141890501998, 43.063221533157275, 0.0),\n",
       " (-89.39004710502212, 43.06374759982316, 0.0),\n",
       " (-89.38954830502291, 43.063793399823055, 0.0)]"
      ]
     },
     "execution_count": 13,
     "metadata": {},
     "output_type": "execute_result"
    }
   ],
   "source": [
    "list(df.geometry[0].exterior.coords)"
   ]
  },
  {
   "cell_type": "code",
   "execution_count": 14,
   "metadata": {
    "collapsed": false
   },
   "outputs": [
    {
     "data": {
      "image/png": "[encoded data removed]",
      "text/plain": [
       "<matplotlib.figure.Figure at 0x11c866be0>"
      ]
     },
     "metadata": {},
     "output_type": "display_data"
    }
   ],
   "source": [
    "fig, ax = plt.subplots()\n",
    "collection = PatchCollection([PolygonPatch(p) for p in df.geometry],\n",
    "                             facecolor='w', edgecolor='k')\n",
    "ax.add_collection(collection)\n",
    "ax.set_xlim(-89.6, -89.2)\n",
    "ax.set_ylim(42.9, 43.3)\n",
    "ax.set_aspect(1)"
   ]
  },
  {
   "cell_type": "markdown",
   "metadata": {},
   "source": [
    "### `pyproj`"
   ]
  },
  {
   "cell_type": "code",
   "execution_count": 15,
   "metadata": {
    "collapsed": true
   },
   "outputs": [],
   "source": [
    "import pyproj\n",
    "from functools import partial\n",
    "from shapely.ops import transform"
   ]
  },
  {
   "cell_type": "markdown",
   "metadata": {},
   "source": [
    "#### proj4 strings for source and destination coordinate systems"
   ]
  },
  {
   "cell_type": "code",
   "execution_count": 16,
   "metadata": {
    "collapsed": true
   },
   "outputs": [],
   "source": [
    "projection1 = '+proj=longlat +ellps=GRS80 +datum=NAD83 +no_defs'\n",
    "projection2 = '+init=epsg:26916'"
   ]
  },
  {
   "cell_type": "markdown",
   "metadata": {},
   "source": [
    "#### make `pyproj.Proj` objects"
   ]
  },
  {
   "cell_type": "code",
   "execution_count": 17,
   "metadata": {
    "collapsed": true
   },
   "outputs": [],
   "source": [
    "pr1 = pyproj.Proj(projection1, errcheck=True, preserve_units=True)\n",
    "pr2 = pyproj.Proj(projection2, errcheck=True, preserve_units=True)"
   ]
  },
  {
   "cell_type": "markdown",
   "metadata": {},
   "source": [
    "#### transform of a single point using pyproj"
   ]
  },
  {
   "cell_type": "code",
   "execution_count": 18,
   "metadata": {
    "collapsed": false
   },
   "outputs": [
    {
     "data": {
      "text/plain": [
       "(336980.9299175093, 4762755.641571694)"
      ]
     },
     "execution_count": 18,
     "metadata": {},
     "output_type": "execute_result"
    }
   ],
   "source": [
    "pyproj.transform(pr1, pr2, -89, 43)"
   ]
  },
  {
   "cell_type": "markdown",
   "metadata": {},
   "source": [
    "#### partial function for repeated application of the transform\n",
    "the other two arguments are the x and y coordinates"
   ]
  },
  {
   "cell_type": "code",
   "execution_count": 19,
   "metadata": {
    "collapsed": false
   },
   "outputs": [
    {
     "data": {
      "text/plain": [
       "functools.partial(<function transform at 0x11eb00158>, <pyproj.Proj object at 0x11ebd12e8>, <pyproj.Proj object at 0x11ebd1348>)"
      ]
     },
     "execution_count": 19,
     "metadata": {},
     "output_type": "execute_result"
    }
   ],
   "source": [
    "project = partial(pyproj.transform, pr1, pr2)\n",
    "project"
   ]
  },
  {
   "cell_type": "markdown",
   "metadata": {},
   "source": [
    "#### `shapely.ops.transform` takes two arguments  \n",
    "1) a function such as the one above that can transform a coorindate pair  \n",
    "2) a shapely geometry object\n",
    "\n",
    "It then applies the transformation to each coordinate represented in the geometry object. We build on this further by looping over the geometry objects in a list comprehension."
   ]
  },
  {
   "cell_type": "code",
   "execution_count": 20,
   "metadata": {
    "collapsed": false
   },
   "outputs": [],
   "source": [
    "geomsutm = [transform(project, g) for g in df.geometry]"
   ]
  },
  {
   "cell_type": "markdown",
   "metadata": {},
   "source": [
    "### Reprojection using the `GIS_utils` `projectdf` macro"
   ]
  },
  {
   "cell_type": "code",
   "execution_count": 21,
   "metadata": {
    "collapsed": false
   },
   "outputs": [],
   "source": [
    "from GISops import projectdf"
   ]
  },
  {
   "cell_type": "code",
   "execution_count": 22,
   "metadata": {
    "collapsed": true
   },
   "outputs": [],
   "source": [
    "geoms = projectdf(df, projection1, projection2)"
   ]
  },
  {
   "cell_type": "code",
   "execution_count": 23,
   "metadata": {
    "collapsed": false
   },
   "outputs": [],
   "source": [
    "from GISio import shp2df, df2shp"
   ]
  },
  {
   "cell_type": "markdown",
   "metadata": {},
   "source": [
    "### Reprojecting a shapefile using `projectdf`"
   ]
  },
  {
   "cell_type": "code",
   "execution_count": 24,
   "metadata": {
    "collapsed": false
   },
   "outputs": [
    {
     "name": "stdout",
     "output_type": "stream",
     "text": [
      "\n",
      "reading data/YaharaLakes.shp...\n",
      "--> building dataframe... (may take a while for large shapefiles)\n",
      "writing data/YaharaLakes2.shp...\n"
     ]
    }
   ],
   "source": [
    "df = shp2df('data/YaharaLakes.shp')\n",
    "geoms = projectdf(df, projection1, projection2)\n",
    "df['geometry'] = geoms\n",
    "df2shp(df, 'data/YaharaLakes2.shp', proj4=projection2)"
   ]
  },
  {
   "cell_type": "code",
   "execution_count": null,
   "metadata": {
    "collapsed": true
   },
   "outputs": [],
   "source": []
  }
 ],
 "metadata": {
  "anaconda-cloud": {},
  "kernelspec": {
   "display_name": "Python [conda env:gis]",
   "language": "python",
   "name": "conda-env-gis-py"
  },
  "language_info": {
   "codemirror_mode": {
    "name": "ipython",
    "version": 3
   },
   "file_extension": ".py",
   "mimetype": "text/x-python",
   "name": "python",
   "nbconvert_exporter": "python",
   "pygments_lexer": "ipython3",
   "version": "3.6.0"
  }
 },
 "nbformat": 4,
 "nbformat_minor": 1
}
